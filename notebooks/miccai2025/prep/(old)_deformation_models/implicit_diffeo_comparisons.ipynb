{
  "cells": [
    {
      "cell_type": "markdown",
      "metadata": {
        "id": "5hSdqIaAPZ4q"
      },
      "source": [
        "# Imports"
      ]
    },
    {
      "cell_type": "code",
      "execution_count": 1,
      "metadata": {
        "id": "r-aUHDa_PZ4r",
        "outputId": "177aab6e-bbce-43f0-d699-830c9a79642c",
        "colab": {
          "base_uri": "https://localhost:8080/",
          "height": 393
        }
      },
      "outputs": [
        {
          "output_type": "error",
          "ename": "ModuleNotFoundError",
          "evalue": "No module named 'pyvista'",
          "traceback": [
            "\u001b[0;31m---------------------------------------------------------------------------\u001b[0m",
            "\u001b[0;31mModuleNotFoundError\u001b[0m                       Traceback (most recent call last)",
            "\u001b[0;32m<ipython-input-1-7151b35f6dd0>\u001b[0m in \u001b[0;36m<cell line: 0>\u001b[0;34m()\u001b[0m\n\u001b[1;32m      8\u001b[0m \u001b[0;32mimport\u001b[0m \u001b[0mtorch\u001b[0m\u001b[0;34m\u001b[0m\u001b[0;34m\u001b[0m\u001b[0m\n\u001b[1;32m      9\u001b[0m \u001b[0;32mimport\u001b[0m \u001b[0mtorch\u001b[0m\u001b[0;34m.\u001b[0m\u001b[0mnn\u001b[0m \u001b[0;32mas\u001b[0m \u001b[0mnn\u001b[0m\u001b[0;34m\u001b[0m\u001b[0;34m\u001b[0m\u001b[0m\n\u001b[0;32m---> 10\u001b[0;31m \u001b[0;32mimport\u001b[0m \u001b[0mpyvista\u001b[0m \u001b[0;32mas\u001b[0m \u001b[0mpv\u001b[0m\u001b[0;34m\u001b[0m\u001b[0;34m\u001b[0m\u001b[0m\n\u001b[0m\u001b[1;32m     11\u001b[0m \u001b[0;32mimport\u001b[0m \u001b[0mpyvistaqt\u001b[0m \u001b[0;32mas\u001b[0m \u001b[0mpvqt\u001b[0m\u001b[0;34m\u001b[0m\u001b[0;34m\u001b[0m\u001b[0m\n\u001b[1;32m     12\u001b[0m \u001b[0;32mfrom\u001b[0m \u001b[0mtqdm\u001b[0m \u001b[0;32mimport\u001b[0m \u001b[0mtqdm\u001b[0m\u001b[0;34m\u001b[0m\u001b[0;34m\u001b[0m\u001b[0m\n",
            "\u001b[0;31mModuleNotFoundError\u001b[0m: No module named 'pyvista'",
            "",
            "\u001b[0;31m---------------------------------------------------------------------------\u001b[0;32m\nNOTE: If your import is failing due to a missing package, you can\nmanually install dependencies using either !pip or !apt.\n\nTo view examples of installing some common dependencies, click the\n\"Open Examples\" button below.\n\u001b[0;31m---------------------------------------------------------------------------\u001b[0m\n"
          ],
          "errorDetails": {
            "actions": [
              {
                "action": "open_url",
                "actionText": "Open Examples",
                "url": "/notebooks/snippets/importing_libraries.ipynb"
              }
            ]
          }
        }
      ],
      "source": [
        "%load_ext autoreload\n",
        "%autoreload 2\n",
        "\n",
        "import os\n",
        "import sys\n",
        "import scipy\n",
        "import numpy as np\n",
        "import torch\n",
        "import torch.nn as nn\n",
        "import pyvista as pv\n",
        "import pyvistaqt as pvqt\n",
        "from tqdm import tqdm\n",
        "import matplotlib.pyplot as plt\n",
        "\n",
        "import kaolin\n",
        "import vtk\n",
        "import matplotlib\n",
        "colors = matplotlib.colormaps['Set2'].colors\n",
        "\n",
        "root_dir = 'C:/Users/danpa/OneDrive/Documents/research_code/miccai2025_diffeo'\n",
        "if root_dir not in sys.path:\n",
        "    sys.path.append(root_dir)\n",
        "import deform_diffeo_lib as ddlib\n",
        "\n",
        "data_dir = os.path.join(root_dir, 'data')"
      ]
    },
    {
      "cell_type": "code",
      "execution_count": null,
      "metadata": {
        "id": "COfKd-vuPZ4r"
      },
      "outputs": [],
      "source": [
        "template_pv = pv.read(os.path.join(data_dir, 'template_test.vtk'))\n",
        "\n",
        "verts_init_np = template_pv.points\n",
        "verts_deformed_true_np = np.load(os.path.join(data_dir, 'simulation_results/test/deformed_verts_[id].npy'))\n",
        "\n",
        "deformed_true_pv = template_pv.copy()\n",
        "deformed_true_pv.points = verts_deformed_true_np\n",
        "\n",
        "# plotter = pvqt.BackgroundPlotter()\n",
        "# _ = plotter.add_mesh(template_pv, show_edges=True, color=colors[0])\n",
        "# _ = plotter.add_mesh(deformed_true_pv, show_edges=True, color=colors[1])"
      ]
    },
    {
      "cell_type": "code",
      "execution_count": null,
      "metadata": {
        "id": "lMSo3dLwPZ4s"
      },
      "outputs": [],
      "source": [
        "device = 'cuda'\n",
        "\n",
        "verts_init = torch.tensor(verts_init_np, dtype=torch.get_default_dtype(), device=device)[None]\n",
        "verts_deformed_true = torch.tensor(verts_deformed_true_np, dtype=torch.get_default_dtype(), device=device)[None]"
      ]
    },
    {
      "cell_type": "markdown",
      "metadata": {
        "id": "RUVjpK2_PZ4s"
      },
      "source": [
        "# FourierNetwork"
      ]
    },
    {
      "cell_type": "markdown",
      "metadata": {
        "id": "LN1VKOyRPZ4s"
      },
      "source": [
        "### conditions\n",
        "\n",
        "1. scaling_and_squaring_pointwise\n",
        "    - optimization worked well, and inverse is near voxelgrid forward Euler\n",
        "2. diffeomorphic_forward_euler_pointwise\n",
        "    - optimization worked well, inverse is best"
      ]
    },
    {
      "cell_type": "code",
      "execution_count": null,
      "metadata": {
        "id": "v5_Zd8raPZ4s"
      },
      "outputs": [],
      "source": [
        "exp_num = 2\n",
        "n_steps = 10 # only applies to foward euler"
      ]
    },
    {
      "cell_type": "code",
      "execution_count": null,
      "metadata": {
        "id": "7_9F-60uPZ4s"
      },
      "outputs": [],
      "source": [
        "img_shape = np.array([120,120,180])\n",
        "model_v = ddlib.models.FourierNetwork(input_dim=3, output_dim=3, n_random_freqs=128, hidden_dim=128, num_layers=5, freq_stdev=1e-2, img_shape=img_shape)\n",
        "model_v.to(device)\n",
        "\n",
        "optimizer_v = torch.optim.Adam(model_v.parameters(), lr=1e-4)"
      ]
    },
    {
      "cell_type": "code",
      "execution_count": null,
      "metadata": {
        "id": "Brz7Ei80PZ4s"
      },
      "outputs": [],
      "source": [
        "plot_pv = template_pv.copy()\n",
        "\n",
        "if exp_num == 1:\n",
        "    displacements = ddlib.ops.scaling_and_squaring_pointwise(model_v, verts_init)\n",
        "elif exp_num == 2:\n",
        "    displacements = ddlib.ops.forward_euler_pointwise(model_v, verts_init)\n",
        "\n",
        "verts_deformed = verts_init + displacements\n",
        "plot_pv.points = verts_deformed.detach().squeeze().cpu().numpy()\n",
        "\n",
        "plotter = pvqt.BackgroundPlotter()\n",
        "_ = plotter.add_mesh(plot_pv, show_edges=True, color=colors[0], name='pred_pv')\n",
        "_ = plotter.add_mesh(deformed_true_pv, show_edges=True, color=colors[1], opacity=0.3)"
      ]
    },
    {
      "cell_type": "code",
      "execution_count": null,
      "metadata": {
        "id": "F5UkfKyaPZ4s",
        "outputId": "9434c209-794c-4c8f-c3de-ef86b2b7d716"
      },
      "outputs": [
        {
          "name": "stderr",
          "output_type": "stream",
          "text": [
            "100%|██████████| 300/300 [00:11<00:00, 25.63it/s, loss: 0.155]\n"
          ]
        }
      ],
      "source": [
        "n_epochs = 300\n",
        "pbar = tqdm(range(n_epochs))\n",
        "for epoch in pbar:\n",
        "    if exp_num == 1:\n",
        "        displacements = ddlib.ops.scaling_and_squaring_pointwise(model_v, verts_init)\n",
        "    elif exp_num == 2:\n",
        "        displacements = ddlib.ops.forward_euler_pointwise(model_v, verts_init)\n",
        "\n",
        "    verts_deformed = verts_init + displacements\n",
        "\n",
        "    loss = (verts_deformed - verts_deformed_true).norm(dim=-1).mean()\n",
        "\n",
        "    optimizer_v.zero_grad()\n",
        "    loss.backward()\n",
        "    optimizer_v.step()\n",
        "\n",
        "    if epoch % 1 == 0:\n",
        "        plot_pv.points = verts_deformed.detach().squeeze().cpu().numpy()\n",
        "        _ = plotter.add_points(np.zeros(3), name='dummy', reset_camera=False)\n",
        "\n",
        "    pbar.set_postfix_str('loss: {:.3f}'.format(loss.detach().item()))"
      ]
    },
    {
      "cell_type": "markdown",
      "metadata": {
        "id": "6Rh-6Q-PPZ4t"
      },
      "source": [
        "##### check inverse"
      ]
    },
    {
      "cell_type": "code",
      "execution_count": null,
      "metadata": {
        "id": "vu97ZeOBPZ4t",
        "outputId": "8d1b3c43-31eb-4620-e160-f71d6cd5c686"
      },
      "outputs": [
        {
          "name": "stdout",
          "output_type": "stream",
          "text": [
            "(False, tensor(5.8188, device='cuda:0', grad_fn=<MaxBackward1>))\n"
          ]
        }
      ],
      "source": [
        "if exp_num == 1:\n",
        "    displacements_inv = ddlib.ops.scaling_and_squaring_pointwise(model_v, verts_deformed, reverse_field=True)\n",
        "elif exp_num == 2:\n",
        "    displacements_inv = ddlib.ops.forward_euler_pointwise(model_v, verts_deformed, n_steps=n_steps, reverse_field=True)\n",
        "\n",
        "verts_inversed = verts_deformed + displacements_inv\n",
        "\n",
        "plot_pv = template_pv.copy()\n",
        "plot_pv.points = verts_inversed.detach().squeeze().cpu().numpy()\n",
        "\n",
        "plotter = pvqt.BackgroundPlotter()\n",
        "actor_plot = plotter.add_mesh(plot_pv, show_edges=True, color=colors[0])\n",
        "_ = plotter.add_mesh(deformed_true_pv, show_edges=True, color=colors[1], opacity=0.3)\n",
        "_ = plotter.add_mesh(template_pv, show_edges=True, color=colors[2], opacity=1)\n",
        "_ = plotter.add_checkbox_button_widget(lambda flag: actor_plot.SetVisibility(flag), value=True, color_on=colors[0])\n",
        "\n",
        "print(ddlib.utils.compare_tensors(verts_init, verts_inversed))"
      ]
    }
  ],
  "metadata": {
    "kernelspec": {
      "display_name": "kaolin_sim",
      "language": "python",
      "name": "python3"
    },
    "language_info": {
      "codemirror_mode": {
        "name": "ipython",
        "version": 3
      },
      "file_extension": ".py",
      "mimetype": "text/x-python",
      "name": "python",
      "nbconvert_exporter": "python",
      "pygments_lexer": "ipython3",
      "version": "3.9.20"
    },
    "colab": {
      "provenance": []
    }
  },
  "nbformat": 4,
  "nbformat_minor": 0
}